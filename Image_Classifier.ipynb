{
 "cells": [
  {
   "cell_type": "code",
   "execution_count": 3,
   "metadata": {},
   "outputs": [
    {
     "name": "stdout",
     "output_type": "stream",
     "text": [
      "Found 14034 images belonging to 6 classes.\n",
      "Found 3000 images belonging to 6 classes.\n",
      "Epoch 1/20\n",
      "14034/14034 [==============================] - 984s 70ms/step - loss: 0.6419 - accuracy: 0.7639 - val_loss: 0.1981 - val_accuracy: 0.8587\n",
      "Epoch 2/20\n",
      "14034/14034 [==============================] - 832s 59ms/step - loss: 0.4530 - accuracy: 0.8394 - val_loss: 0.7514 - val_accuracy: 0.8583\n",
      "Epoch 3/20\n",
      "14034/14034 [==============================] - 841s 60ms/step - loss: 0.4064 - accuracy: 0.8558 - val_loss: 0.3350 - val_accuracy: 0.8483\n",
      "Epoch 4/20\n",
      "14034/14034 [==============================] - 880s 63ms/step - loss: 0.3779 - accuracy: 0.8649 - val_loss: 0.3362 - val_accuracy: 0.8673\n",
      "Epoch 5/20\n",
      "14034/14034 [==============================] - 859s 61ms/step - loss: 0.3684 - accuracy: 0.8690 - val_loss: 0.5906 - val_accuracy: 0.8600\n",
      "Epoch 6/20\n",
      "14034/14034 [==============================] - 846s 60ms/step - loss: 0.3588 - accuracy: 0.8732 - val_loss: 0.1589 - val_accuracy: 0.8740\n",
      "Epoch 7/20\n",
      "14034/14034 [==============================] - 822s 59ms/step - loss: 0.3531 - accuracy: 0.8752 - val_loss: 0.4071 - val_accuracy: 0.8637\n",
      "Epoch 8/20\n",
      "14034/14034 [==============================] - 804s 57ms/step - loss: 0.3423 - accuracy: 0.8781 - val_loss: 1.0933 - val_accuracy: 0.8753\n",
      "Epoch 9/20\n",
      "14034/14034 [==============================] - 782s 56ms/step - loss: 0.3432 - accuracy: 0.8796 - val_loss: 0.0824 - val_accuracy: 0.8733\n",
      "Epoch 10/20\n",
      "14034/14034 [==============================] - 808s 58ms/step - loss: 0.3385 - accuracy: 0.8807 - val_loss: 0.1362 - val_accuracy: 0.8677\n",
      "Epoch 11/20\n",
      "14034/14034 [==============================] - 788s 56ms/step - loss: 0.3351 - accuracy: 0.8816 - val_loss: 1.2012 - val_accuracy: 0.8743\n",
      "Epoch 12/20\n",
      "14034/14034 [==============================] - 787s 56ms/step - loss: 0.3327 - accuracy: 0.8835 - val_loss: 0.2328 - val_accuracy: 0.8773\n",
      "Epoch 13/20\n",
      "14034/14034 [==============================] - 787s 56ms/step - loss: 0.3351 - accuracy: 0.8835 - val_loss: 0.3616 - val_accuracy: 0.8623\n",
      "Epoch 14/20\n",
      "14034/14034 [==============================] - 844s 60ms/step - loss: 0.3271 - accuracy: 0.8859 - val_loss: 0.9138 - val_accuracy: 0.8870\n",
      "Epoch 15/20\n",
      "14034/14034 [==============================] - 2149s 153ms/step - loss: 0.3306 - accuracy: 0.8844 - val_loss: 0.5943 - val_accuracy: 0.8627\n",
      "Epoch 16/20\n",
      "14034/14034 [==============================] - 805s 57ms/step - loss: 0.3291 - accuracy: 0.8851 - val_loss: 0.3292 - val_accuracy: 0.8860\n",
      "Epoch 17/20\n",
      "14034/14034 [==============================] - 776s 55ms/step - loss: 0.3310 - accuracy: 0.8848 - val_loss: 0.2785 - val_accuracy: 0.8863\n",
      "Epoch 18/20\n",
      "14034/14034 [==============================] - 783s 56ms/step - loss: 0.3281 - accuracy: 0.8847 - val_loss: 1.4768 - val_accuracy: 0.8810\n",
      "Epoch 19/20\n",
      "14034/14034 [==============================] - 780s 56ms/step - loss: 0.3405 - accuracy: 0.8830 - val_loss: 0.2253 - val_accuracy: 0.8633\n",
      "Epoch 20/20\n",
      "14034/14034 [==============================] - 788s 56ms/step - loss: 0.3319 - accuracy: 0.8845 - val_loss: 0.3400 - val_accuracy: 0.8743\n"
     ]
    },
    {
     "data": {
      "text/plain": [
       "{'buildings': 0,\n",
       " 'forest': 1,\n",
       " 'glacier': 2,\n",
       " 'mountain': 3,\n",
       " 'sea': 4,\n",
       " 'street': 5}"
      ]
     },
     "execution_count": 3,
     "metadata": {},
     "output_type": "execute_result"
    }
   ],
   "source": [
    "# -*- coding: utf-8 -*-\n",
    "\"\"\"\n",
    "Created on Sun May 17 11:53:23 2020\n",
    "\n",
    "@author: HP\n",
    "\"\"\"\n",
    "#import libs\n",
    "\n",
    "\n",
    "from keras.models import Sequential\n",
    "from keras.layers import Convolution2D\n",
    "from keras.layers import MaxPooling2D\n",
    "from keras.layers import Flatten\n",
    "from keras.layers import Dense,Dropout\n",
    "\n",
    "#Initializing the CNN\n",
    "\n",
    "classifier= Sequential()\n",
    "\n",
    "#Layer 1 Conv\n",
    "classifier.add(Convolution2D(32,(3,3),input_shape=(150,150,3),activation='relu'))\n",
    "\n",
    "#Step 2 Pooling\n",
    "\n",
    "classifier.add(MaxPooling2D(pool_size=(2,2)))\n",
    "\n",
    "#layer 2\n",
    "\n",
    "#Layer 1 Conv\n",
    "classifier.add(Convolution2D(64 ,(3,3),activation='relu'))\n",
    "\n",
    "#Step 2 Pooling\n",
    "\n",
    "classifier.add(MaxPooling2D(pool_size=(2,2)))\n",
    "\n",
    "#layer 3\n",
    "\n",
    "#Layer 1 Conv\n",
    "classifier.add(Convolution2D(128 ,(3,3),activation='relu'))\n",
    "\n",
    "#Step 2 Pooling\n",
    "\n",
    "classifier.add(MaxPooling2D(pool_size=(2,2)))\n",
    "\n",
    "\n",
    "#Flattening\n",
    "\n",
    "classifier.add(Flatten())\n",
    "\n",
    "#Full-connection\n",
    "\n",
    "classifier.add(Dense(units=128,activation='relu'))\n",
    "classifier.add(Dropout(0.10))\n",
    "classifier.add(Dense(units=6,activation='softmax'))\n",
    "\n",
    "#Compiling the CNN\n",
    "\n",
    "classifier.compile(optimizer='adam',loss='categorical_crossentropy',\n",
    "                   metrics=['accuracy'])\n",
    "\n",
    "\n",
    "from keras.preprocessing.image import ImageDataGenerator\n",
    "#Fitting the CNN to images\n",
    "train_datagen = ImageDataGenerator(\n",
    "        rescale=1./255,\n",
    "        shear_range=0.2,\n",
    "        zoom_range=0.2,\n",
    "        horizontal_flip=True,\n",
    "        fill_mode='nearest',\n",
    "        width_shift_range=0.2,\n",
    "        height_shift_range=0.2)\n",
    "test_datagen = ImageDataGenerator(rescale=1./255)\n",
    "training_set = train_datagen.flow_from_directory(\n",
    "        'training_set',\n",
    "        target_size=(150,150),\n",
    "        batch_size=10,\n",
    "        class_mode='categorical')\n",
    "test_set = test_datagen.flow_from_directory(\n",
    "        'test_set',\n",
    "        target_size=(150,150),\n",
    "        batch_size=10,\n",
    "        class_mode='categorical')\n",
    "history=classifier.fit(\n",
    "        training_set,\n",
    "        steps_per_epoch=14034,\n",
    "        epochs=20,\n",
    "        validation_data=test_set,\n",
    "        validation_steps=3000,verbose=1)\n",
    "\n",
    "\n",
    "classifier.save('intel_image_classifier.h5')\n",
    "\n",
    "\n",
    "#Predicting on new set\n",
    "import numpy as np\n",
    "from keras.preprocessing import image\n",
    "\n",
    "test_image= image.load_img('single_pred/23614.jpg',target_size=(150,150))\n",
    "test_image=image.img_to_array(test_image)\n",
    "test_image=np.expand_dims(test_image,axis=0)\n",
    "result=classifier.predict(test_image)\n",
    "training_set.class_indices\n"
   ]
  },
  {
   "cell_type": "code",
   "execution_count": 4,
   "metadata": {},
   "outputs": [
    {
     "data": {
      "image/png": "[encoded data removed]",
      "text/plain": [
       "<Figure size 432x288 with 1 Axes>"
      ]
     },
     "metadata": {
      "needs_background": "light"
     },
     "output_type": "display_data"
    },
    {
     "data": {
      "text/plain": [
       "<Figure size 432x288 with 0 Axes>"
      ]
     },
     "metadata": {},
     "output_type": "display_data"
    }
   ],
   "source": [
    "import matplotlib.pyplot as plt\n",
    "acc = history.history['accuracy']\n",
    "val_acc = history.history['val_accuracy']\n",
    "loss = history.history['loss']\n",
    "val_loss = history.history['val_loss']\n",
    "\n",
    "epochs = range(len(acc))\n",
    "\n",
    "plt.plot(epochs, acc, 'r', label='Training accuracy')\n",
    "plt.plot(epochs, val_acc, 'b', label='Validation accuracy')\n",
    "plt.title('Training and validation accuracy')\n",
    "plt.legend(loc=0)\n",
    "plt.figure()\n",
    "\n",
    "\n",
    "plt.show()"
   ]
  },
  {
   "cell_type": "code",
   "execution_count": 5,
   "metadata": {},
   "outputs": [
    {
     "data": {
      "text/plain": [
       "array([[1., 0., 0., 0., 0., 0.]], dtype=float32)"
      ]
     },
     "execution_count": 5,
     "metadata": {},
     "output_type": "execute_result"
    }
   ],
   "source": [
    "result"
   ]
  },
  {
   "cell_type": "code",
   "execution_count": 6,
   "metadata": {},
   "outputs": [
    {
     "data": {
      "text/plain": [
       "{'buildings': 0,\n",
       " 'forest': 1,\n",
       " 'glacier': 2,\n",
       " 'mountain': 3,\n",
       " 'sea': 4,\n",
       " 'street': 5}"
      ]
     },
     "execution_count": 6,
     "metadata": {},
     "output_type": "execute_result"
    }
   ],
   "source": [
    "training_set.class_indices"
   ]
  },
  {
   "cell_type": "code",
   "execution_count": 94,
   "metadata": {},
   "outputs": [
    {
     "data": {
      "text/plain": [
       "{'buildings': 0,\n",
       " 'forest': 1,\n",
       " 'glacier': 2,\n",
       " 'mountain': 3,\n",
       " 'sea': 4,\n",
       " 'street': 5}"
      ]
     },
     "execution_count": 94,
     "metadata": {},
     "output_type": "execute_result"
    }
   ],
   "source": [
    "test_image= image.load_img('single_pred/605.jpg',target_size=(150,150))\n",
    "test_image=image.img_to_array(test_image)\n",
    "test_image=np.expand_dims(test_image,axis=0)\n",
    "result=classifier.predict_classes(test_image)\n",
    "training_set.class_indices"
   ]
  },
  {
   "cell_type": "code",
   "execution_count": 95,
   "metadata": {},
   "outputs": [
    {
     "data": {
      "text/plain": [
       "array([0], dtype=int64)"
      ]
     },
     "execution_count": 95,
     "metadata": {},
     "output_type": "execute_result"
    }
   ],
   "source": [
    "result #building"
   ]
  },
  {
   "cell_type": "code",
   "execution_count": null,
   "metadata": {},
   "outputs": [],
   "source": []
  },
  {
   "cell_type": "code",
   "execution_count": null,
   "metadata": {},
   "outputs": [],
   "source": []
  }
 ],
 "metadata": {
  "kernelspec": {
   "display_name": "Python 3",
   "language": "python",
   "name": "python3"
  },
  "language_info": {
   "codemirror_mode": {
    "name": "ipython",
    "version": 3
   },
   "file_extension": ".py",
   "mimetype": "text/x-python",
   "name": "python",
   "nbconvert_exporter": "python",
   "pygments_lexer": "ipython3",
   "version": "3.7.6"
  }
 },
 "nbformat": 4,
 "nbformat_minor": 4
}
